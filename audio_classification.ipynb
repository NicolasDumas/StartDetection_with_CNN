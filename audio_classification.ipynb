{
 "cells": [
  {
   "cell_type": "markdown",
   "metadata": {},
   "source": [
    "# Détection de départ avec un CNN"
   ]
  },
  {
   "cell_type": "markdown",
   "metadata": {},
   "source": [
    "L'objectif de ce NoteBook est d'implémenter un réseau de neurones convolutif pour classifier dans des sons en deux catégories : \"bips\" et \"non-bips\". Ainsi en extrayant l'audio d'une vidéo de course de natation on puisse détecter l'instant de départ de la course. La méthode est la suivante : on travaille sur le spectrogramme de l'audio en le considérant comme une image, on place cette image en entrée d'un réseau CNN 2D et il nous renvoie la catégorie du son."
   ]
  },
  {
   "cell_type": "code",
   "execution_count": 292,
   "metadata": {},
   "outputs": [],
   "source": [
    "import os\n",
    "import cv2\n",
    "import numpy as np\n",
    "from tqdm import tqdm\n",
    "import matplotlib.pyplot as plt\n",
    "import librosa\n",
    "import librosa.display\n",
    "import warnings\n",
    "warnings.filterwarnings('ignore')\n",
    "import torch\n",
    "import torch.nn as nn\n",
    "import torch.nn.functional as F\n",
    "import torch.optim as optim\n",
    "import random\n",
    "from playsound import playsound"
   ]
  },
  {
   "cell_type": "markdown",
   "metadata": {},
   "source": [
    "La fonction suivante permet de visualiser le spectrogramme d'un audio. On considère des audios de 0.5s."
   ]
  },
  {
   "cell_type": "code",
   "execution_count": 199,
   "metadata": {},
   "outputs": [],
   "source": [
    "def show_spectrogramme(audio_path):\n",
    "    y, sr = librosa.load(audio_path, duration=0.49)\n",
    "    ps = np.array(librosa.feature.melspectrogram(y=y, sr=sr))\n",
    "    librosa.display.specshow(ps, y_axis='mel', x_axis='time')"
   ]
  },
  {
   "cell_type": "code",
   "execution_count": 301,
   "metadata": {},
   "outputs": [
    {
     "data": {
      "image/png": "[encoded data removed]",
      "text/plain": [
       "<Figure size 432x288 with 1 Axes>"
      ]
     },
     "metadata": {
      "needs_background": "light"
     },
     "output_type": "display_data"
    }
   ],
   "source": [
    "#Exemple de spectrogramme d'un bip\n",
    "show_spectrogramme('bips/B0-8.wav')"
   ]
  },
  {
   "cell_type": "code",
   "execution_count": 291,
   "metadata": {},
   "outputs": [
    {
     "data": {
      "image/png": "[encoded data removed]",
      "text/plain": [
       "<Figure size 432x288 with 1 Axes>"
      ]
     },
     "metadata": {
      "needs_background": "light"
     },
     "output_type": "display_data"
    }
   ],
   "source": [
    "#Exemple de spectrogramme d'un non-bip\n",
    "show_spectrogramme('non_bips/NB0-10.wav')"
   ]
  },
  {
   "cell_type": "markdown",
   "metadata": {},
   "source": [
    "### Gestion de la data"
   ]
  },
  {
   "cell_type": "markdown",
   "metadata": {},
   "source": [
    "Il faut un dossier 'bips' et un fichier 'non-bips' qui contienne respectivement des enregistrement de bips et de non bips. "
   ]
  },
  {
   "cell_type": "code",
   "execution_count": 224,
   "metadata": {},
   "outputs": [
    {
     "name": "stderr",
     "output_type": "stream",
     "text": [
      "  3%|▎         | 3/116 [00:00<00:03, 28.36it/s]"
     ]
    },
    {
     "name": "stdout",
     "output_type": "stream",
     "text": [
      "bips\n"
     ]
    },
    {
     "name": "stderr",
     "output_type": "stream",
     "text": [
      "100%|██████████| 116/116 [00:03<00:00, 34.37it/s]\n",
      "  4%|▎         | 4/113 [00:00<00:03, 35.04it/s]"
     ]
    },
    {
     "name": "stdout",
     "output_type": "stream",
     "text": [
      "non_bips\n"
     ]
    },
    {
     "name": "stderr",
     "output_type": "stream",
     "text": [
      "100%|██████████| 113/113 [00:03<00:00, 34.01it/s]\n"
     ]
    },
    {
     "name": "stdout",
     "output_type": "stream",
     "text": [
      "Nombre de bips du dataset = 116\n",
      "Nombre de non-bips du dataset = 113\n"
     ]
    }
   ],
   "source": [
    "REBUILD_DATA = True\n",
    "#Si le fichier 'training_data_bip.npy' n'existe pas encore :\n",
    "# REBUILD_DATA = True  \n",
    "\n",
    "if REBUILD_DATA:\n",
    "    bipvsnonbip = BipVSNonBips()\n",
    "    bipvsnonbip.make_training_data()"
   ]
  },
  {
   "cell_type": "code",
   "execution_count": 203,
   "metadata": {},
   "outputs": [],
   "source": [
    "class BipVSNonBips():\n",
    "    SIZE = 128\n",
    "    BIPS = \"bips\"\n",
    "    NON_BIPS = \"non_bips\"\n",
    "    LABELS = {BIPS : 0, NON_BIPS : 1}\n",
    "    training_data = []\n",
    "    bipcount = 0\n",
    "    non_bipcount = 0\n",
    "    \n",
    "    def make_training_data(self):\n",
    "        for label in self.LABELS:\n",
    "            print(label)\n",
    "            for f in tqdm(os.listdir(label)):\n",
    "                path = os.path.join(label,f)\n",
    "                y, sr = librosa.load(path, duration=0.49)\n",
    "                ps = librosa.feature.melspectrogram(y=y, sr=sr)\n",
    "                ps = cv2.resize(ps, (self.SIZE, self.SIZE))\n",
    "                self.training_data.append([np.array(ps), np.eye(2)[self.LABELS[label]]])\n",
    "            \n",
    "                if label == self.BIPS:\n",
    "                    self.bipcount += 1\n",
    "            \n",
    "                elif label == self.NON_BIPS:\n",
    "                    self.non_bipcount += 1\n",
    "                \n",
    "        np.random.shuffle(self.training_data)\n",
    "        np.save(\"training_data_bip.npy\", self.training_data)\n",
    "        print(\"Nombre de bips du dataset =\",self.bipcount)\n",
    "        print(\"Nombre de non-bips du dataset =\",self.non_bipcount)"
   ]
  },
  {
   "cell_type": "code",
   "execution_count": 273,
   "metadata": {},
   "outputs": [],
   "source": [
    "training_data = np.load(\"training_data_bip.npy\", allow_pickle=True)\n",
    "random.shuffle(training_data)"
   ]
  },
  {
   "cell_type": "markdown",
   "metadata": {},
   "source": [
    "### Implémantation du réseau de neurones "
   ]
  },
  {
   "cell_type": "code",
   "execution_count": 274,
   "metadata": {},
   "outputs": [],
   "source": [
    "class Net(nn.Module):\n",
    "    def __init__(self):\n",
    "        super().__init__()\n",
    "        self.conv1 = nn.Conv2d(1, 24, 5)\n",
    "        self.conv2 = nn.Conv2d(24, 48, 5)        \n",
    "        self.conv3 = nn.Conv2d(48, 48, 5)\n",
    "\n",
    "        self.fc1 = nn.Linear(2400, 64)\n",
    "        self.fc2 = nn.Linear(64, 2)        \n",
    "        \n",
    "\n",
    "    \n",
    "    def forward(self,x):\n",
    "\n",
    "        x = F.max_pool2d(F.relu(self.conv1(x)), (4,2))\n",
    "        x = F.max_pool2d(F.relu(self.conv2(x)), (4,2))\n",
    "        x = F.relu(self.conv3(x))\n",
    "        x = x.reshape(-1,2400)\n",
    "        x = F.relu(self.fc1(x))\n",
    "        x = self.fc2(x)\n",
    "        return F.softmax(x, dim=1)"
   ]
  },
  {
   "cell_type": "code",
   "execution_count": 275,
   "metadata": {},
   "outputs": [],
   "source": [
    "net = Net()"
   ]
  },
  {
   "cell_type": "code",
   "execution_count": 276,
   "metadata": {},
   "outputs": [],
   "source": [
    "optimizer = optim.Adam(net.parameters(), lr = 0.001)\n",
    "loss_function = nn.MSELoss()"
   ]
  },
  {
   "cell_type": "code",
   "execution_count": 277,
   "metadata": {},
   "outputs": [],
   "source": [
    "#Convertion de la data en tensors\n",
    "X = torch.Tensor([i[0] for i in training_data]).view(-1, 128, 128)\n",
    "y = torch.Tensor([i[1] for i in training_data])"
   ]
  },
  {
   "cell_type": "code",
   "execution_count": 278,
   "metadata": {},
   "outputs": [],
   "source": [
    "#Pourcentage de la data utilisée pour les tests, le reste du dataset est utilisé pour l'entrainement.\n",
    "VAL_PCT = 0.3\n",
    "val_size = int(len(X)*VAL_PCT)\n",
    " \n",
    "train_X = X[:-val_size]\n",
    "train_y = y[:-val_size]\n",
    "\n",
    "test_X = X[-val_size:]\n",
    "test_y = y[-val_size:]"
   ]
  },
  {
   "cell_type": "code",
   "execution_count": 279,
   "metadata": {},
   "outputs": [],
   "source": [
    "#Batch Size et nombre d'epochs \n",
    "BATCH_SIZE = 20\n",
    "EPOCHS = 1"
   ]
  },
  {
   "cell_type": "code",
   "execution_count": 280,
   "metadata": {},
   "outputs": [
    {
     "name": "stderr",
     "output_type": "stream",
     "text": [
      "100%|██████████| 9/9 [00:02<00:00,  4.41it/s]"
     ]
    },
    {
     "name": "stdout",
     "output_type": "stream",
     "text": [
      "tensor(0.0698, grad_fn=<MseLossBackward>)\n"
     ]
    },
    {
     "name": "stderr",
     "output_type": "stream",
     "text": [
      "\n"
     ]
    }
   ],
   "source": [
    "#Entrainement du modèle\n",
    "\n",
    "for epoch in range(EPOCHS):\n",
    "    for i in tqdm(range(0, len(train_X), BATCH_SIZE)):\n",
    "        batch_X = train_X[i:i+BATCH_SIZE].view(-1,1,128,128)\n",
    "        batch_y = train_y[i:i+BATCH_SIZE]\n",
    "        \n",
    "        net.zero_grad()\n",
    "        outputs = net(batch_X)\n",
    "        loss = loss_function(outputs, batch_y)\n",
    "        \n",
    "        loss.backward()\n",
    "        optimizer.step()\n",
    "    print(loss)"
   ]
  },
  {
   "cell_type": "code",
   "execution_count": 286,
   "metadata": {},
   "outputs": [
    {
     "name": "stderr",
     "output_type": "stream",
     "text": [
      " 60%|██████    | 41/68 [00:00<00:00, 124.69it/s]"
     ]
    },
    {
     "name": "stdout",
     "output_type": "stream",
     "text": [
      "Erreur : non-bip détecté au lieu de bip\n",
      "Erreur : non-bip détecté au lieu de bip\n"
     ]
    },
    {
     "name": "stderr",
     "output_type": "stream",
     "text": [
      "100%|██████████| 68/68 [00:00<00:00, 134.25it/s]"
     ]
    },
    {
     "name": "stdout",
     "output_type": "stream",
     "text": [
      "Erreur : non-bip détecté au lieu de bip\n",
      "Accuracy : 0.956\n"
     ]
    },
    {
     "name": "stderr",
     "output_type": "stream",
     "text": [
      "\n"
     ]
    }
   ],
   "source": [
    "#Test du modèle\n",
    "correct = 0\n",
    "total = 0\n",
    "with torch.no_grad():\n",
    "    for i in tqdm(range(len(test_X))):\n",
    "        real_class = torch.argmax(test_y[i])\n",
    "        net_out = net(test_X[i].view(-1,1,128,128))[0]\n",
    "        predicted_class = torch.argmax(net_out)\n",
    "        if predicted_class == real_class:\n",
    "            correct +=1\n",
    "        elif predicted_class == 1:\n",
    "            print(\"Erreur : non-bip détecté au lieu de bip\")\n",
    "        else:\n",
    "            print(\"Erreur : bip détecté au lieu de non-bip\")\n",
    "        total +=1\n",
    "        \n",
    "print(\"Accuracy :\", round(correct/total,3))"
   ]
  },
  {
   "cell_type": "markdown",
   "metadata": {},
   "source": [
    "La fonction suivante permet de tester le réseau de neurones pour un exemple donné. Le réseau renvoie un tensor de dimension (1,2). La première valeur est la probabilité que le son en entrée soit un bip, et la deuxième valeur la probabilité que le son en entrée soit un non-bip."
   ]
  },
  {
   "cell_type": "code",
   "execution_count": 282,
   "metadata": {},
   "outputs": [],
   "source": [
    "def audio_classification(audio_path):\n",
    "    y, sr = librosa.load(audio_path, duration=0.49)\n",
    "    ps = np.array(librosa.feature.melspectrogram(y=y, sr=sr))\n",
    "    ps = cv2.resize(ps, (128, 128))\n",
    "    with torch.no_grad():\n",
    "        net_out = net(torch.Tensor(ps).view(-1,1,128,128))\n",
    "    return net_out"
   ]
  },
  {
   "cell_type": "code",
   "execution_count": 300,
   "metadata": {},
   "outputs": [
    {
     "name": "stdout",
     "output_type": "stream",
     "text": [
      "Le son est un bip\n"
     ]
    }
   ],
   "source": [
    "Path_test = 'Test/bip0.wav'\n",
    "\n",
    "# Pour écouter le son, décommenter la ligne suivante\n",
    "# playsound(Path_test)\n",
    "\n",
    "out = audio_classification(Path_test)\n",
    "\n",
    "if torch.argmax(out)==0 :\n",
    "    print(\"Le son est un bip\")\n",
    "else :\n",
    "    print(\"Le son n'est pas un bip\")\n"
   ]
  },
  {
   "cell_type": "code",
   "execution_count": null,
   "metadata": {},
   "outputs": [],
   "source": []
  }
 ],
 "metadata": {
  "kernelspec": {
   "display_name": "Python 3",
   "language": "python",
   "name": "python3"
  },
  "language_info": {
   "codemirror_mode": {
    "name": "ipython",
    "version": 3
   },
   "file_extension": ".py",
   "mimetype": "text/x-python",
   "name": "python",
   "nbconvert_exporter": "python",
   "pygments_lexer": "ipython3",
   "version": "3.7.6"
  }
 },
 "nbformat": 4,
 "nbformat_minor": 4
}
